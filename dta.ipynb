{
 "cells": [
  {
   "cell_type": "code",
   "execution_count": 4,
   "id": "608fc758-0465-4680-9995-2db4f4c9d8ac",
   "metadata": {},
   "outputs": [],
   "source": [
    "data_c_oneweek = [1, 0, 0, 1, 0, 0, 0]"
   ]
  },
  {
   "cell_type": "code",
   "execution_count": 5,
   "id": "f9d89e35-29d1-4fba-84af-9567ced21b59",
   "metadata": {},
   "outputs": [],
   "source": [
    "dataC = data_c_oneweek*8"
   ]
  },
  {
   "cell_type": "code",
   "execution_count": 25,
   "id": "2f159813-6d90-4668-81e9-b8a8b8d88b55",
   "metadata": {},
   "outputs": [],
   "source": [
    "gathertime = 56"
   ]
  },
  {
   "cell_type": "code",
   "execution_count": 6,
   "id": "22e786a7-0ef5-48a5-af47-8a00bb2c5f23",
   "metadata": {},
   "outputs": [],
   "source": [
    "import numpy as np"
   ]
  },
  {
   "cell_type": "code",
   "execution_count": 15,
   "id": "6e510c22-1a20-44cb-a096-524892db8b3a",
   "metadata": {},
   "outputs": [],
   "source": [
    "import matplotlib.pyplot as plt"
   ]
  },
  {
   "cell_type": "markdown",
   "id": "f6fae31d-f848-4421-b888-cc6b9eade7a0",
   "metadata": {},
   "source": [
    "## Cycle Number Detection -> Using DC Component"
   ]
  },
  {
   "cell_type": "code",
   "execution_count": 7,
   "id": "4fd6e4af-37c4-49ad-ad15-8480eb037699",
   "metadata": {},
   "outputs": [],
   "source": [
    "dataC_coefficient = np.fft.fft(dataC)"
   ]
  },
  {
   "cell_type": "code",
   "execution_count": 8,
   "id": "ace3f940-0fe7-44c6-affc-4318438712d0",
   "metadata": {},
   "outputs": [
    {
     "data": {
      "text/plain": [
       "array([16.        +0.j        ,  0.        +0.j        ,\n",
       "        0.        +0.j        ,  0.        +0.j        ,\n",
       "        0.        +0.j        ,  0.        +0.j        ,\n",
       "        0.        +0.j        ,  0.        +0.j        ,\n",
       "        0.79224906-3.47106991j,  0.        +0.j        ,\n",
       "        0.        +0.j        ,  0.        +0.j        ,\n",
       "        0.        +0.j        ,  0.        +0.j        ,\n",
       "        0.        +0.j        ,  0.        +0.j        ,\n",
       "       12.98791841+6.25465186j,  0.        +0.j        ,\n",
       "        0.        +0.j        ,  0.        +0.j        ,\n",
       "        0.        +0.j        ,  0.        +0.j        ,\n",
       "        0.        +0.j        ,  0.        +0.j        ,\n",
       "        6.21983253-7.7994233j ,  0.        +0.j        ,\n",
       "        0.        +0.j        ,  0.        +0.j        ,\n",
       "        0.        +0.j        ,  0.        +0.j        ,\n",
       "        0.        +0.j        ,  0.        +0.j        ,\n",
       "        6.21983253+7.7994233j ,  0.        +0.j        ,\n",
       "        0.        +0.j        ,  0.        +0.j        ,\n",
       "        0.        +0.j        ,  0.        +0.j        ,\n",
       "        0.        +0.j        ,  0.        +0.j        ,\n",
       "       12.98791841-6.25465186j,  0.        +0.j        ,\n",
       "        0.        +0.j        ,  0.        +0.j        ,\n",
       "        0.        +0.j        ,  0.        +0.j        ,\n",
       "        0.        +0.j        ,  0.        +0.j        ,\n",
       "        0.79224906+3.47106991j,  0.        +0.j        ,\n",
       "        0.        +0.j        ,  0.        +0.j        ,\n",
       "        0.        +0.j        ,  0.        +0.j        ,\n",
       "        0.        +0.j        ,  0.        +0.j        ])"
      ]
     },
     "execution_count": 8,
     "metadata": {},
     "output_type": "execute_result"
    }
   ],
   "source": [
    "dataC_coefficient"
   ]
  },
  {
   "cell_type": "code",
   "execution_count": 11,
   "id": "ea7af9a0-940f-4b9b-ad69-6cc1a63248a4",
   "metadata": {},
   "outputs": [
    {
     "data": {
      "text/plain": [
       "(16+0j)"
      ]
     },
     "execution_count": 11,
     "metadata": {},
     "output_type": "execute_result"
    }
   ],
   "source": [
    "dc_component = dataC_coefficient[0]\n",
    "dc_component"
   ]
  },
  {
   "cell_type": "code",
   "execution_count": 14,
   "id": "136a3174-2e98-4af7-837e-495673b2b5ee",
   "metadata": {},
   "outputs": [
    {
     "data": {
      "text/plain": [
       "array([16.        ,  0.        ,  0.        ,  0.        ,  0.        ,\n",
       "        0.        ,  0.        ,  0.        ,  3.56033494,  0.        ,\n",
       "        0.        ,  0.        ,  0.        ,  0.        ,  0.        ,\n",
       "        0.        , 14.41550189,  0.        ,  0.        ,  0.        ,\n",
       "        0.        ,  0.        ,  0.        ,  0.        ,  9.97583683,\n",
       "        0.        ,  0.        ,  0.        ,  0.        ,  0.        ,\n",
       "        0.        ,  0.        ,  9.97583683,  0.        ,  0.        ,\n",
       "        0.        ,  0.        ,  0.        ,  0.        ,  0.        ,\n",
       "       14.41550189,  0.        ,  0.        ,  0.        ,  0.        ,\n",
       "        0.        ,  0.        ,  0.        ,  3.56033494,  0.        ,\n",
       "        0.        ,  0.        ,  0.        ,  0.        ,  0.        ,\n",
       "        0.        ])"
      ]
     },
     "execution_count": 14,
     "metadata": {},
     "output_type": "execute_result"
    }
   ],
   "source": [
    "abs(dataC_coefficient)"
   ]
  },
  {
   "cell_type": "code",
   "execution_count": 24,
   "id": "f0e8c843-a4b5-4a98-a6d1-97a4f35b2e38",
   "metadata": {},
   "outputs": [
    {
     "data": {
      "text/plain": [
       "Text(0, 0.5, 'DFT coefficients')"
      ]
     },
     "execution_count": 24,
     "metadata": {},
     "output_type": "execute_result"
    },
    {
     "data": {
      "image/png": "[encoded data removed]",
      "text/plain": [
       "<Figure size 640x480 with 1 Axes>"
      ]
     },
     "metadata": {},
     "output_type": "display_data"
    }
   ],
   "source": [
    "plt.scatter(np.arange(0, len(dataC)), abs(dataC_coefficient), color=\"black\")\n",
    "plt.vlines(np.arange(0, len(dataC)), ymin=0, ymax=abs(dataC_coefficient), color=\"red\")\n",
    "plt.xlabel(\"Time index\")\n",
    "plt.ylabel(\"DFT coefficients\")\n",
    "\n"
   ]
  },
  {
   "cell_type": "code",
   "execution_count": 32,
   "id": "dcf13469-44f5-49d3-89cc-c2e6398ebb12",
   "metadata": {},
   "outputs": [
    {
     "data": {
      "text/plain": [
       "3.5"
      ]
     },
     "execution_count": 32,
     "metadata": {},
     "output_type": "execute_result"
    }
   ],
   "source": [
    "abs(gathertime/dc_component)"
   ]
  },
  {
   "cell_type": "markdown",
   "id": "1a168c9f-ac33-4682-a019-ffd45565e6a9",
   "metadata": {},
   "source": [
    "### 즉 3.5일에 한번 사건이 발생하는 것으로 볼 수 있다."
   ]
  },
  {
   "cell_type": "markdown",
   "id": "d5ff72ce-c22e-4fce-91f8-455d4ab03397",
   "metadata": {},
   "source": [
    "## Period Detectioin -> Using Spectral Analysis"
   ]
  },
  {
   "cell_type": "code",
   "execution_count": 33,
   "id": "0a4844c7-8a76-4c10-ac4f-949dea19d775",
   "metadata": {},
   "outputs": [
    {
     "name": "stdout",
     "output_type": "stream",
     "text": [
      "(56,)\n"
     ]
    }
   ],
   "source": [
    "data_a_oneweek = [1, 0, 0, 0, 0, 0, 0]\n",
    "dataA = np.array(data_a_oneweek*8)\n",
    "print(dataA.shape)"
   ]
  },
  {
   "cell_type": "code",
   "execution_count": 64,
   "id": "dcf371da-9d18-4ec9-bbb8-a322ffb41c8f",
   "metadata": {
    "tags": []
   },
   "outputs": [],
   "source": [
    "from scipy import signal"
   ]
  },
  {
   "cell_type": "code",
   "execution_count": 65,
   "id": "de7a5aec-9edb-4b45-ac3b-f4e2ae17c001",
   "metadata": {},
   "outputs": [],
   "source": [
    "freqs, times, spectrogram = signal.spectrogram(dataA, nperseg=gathertime)"
   ]
  },
  {
   "cell_type": "code",
   "execution_count": 76,
   "id": "1d363bde-55ef-4e6e-9d5c-e9576c512a8f",
   "metadata": {},
   "outputs": [
    {
     "name": "stdout",
     "output_type": "stream",
     "text": [
      "[0.1429 0.2857 0.4286]\n"
     ]
    },
    {
     "data": {
      "image/png": "[encoded data removed]",
      "text/plain": [
       "<Figure size 500x400 with 1 Axes>"
      ]
     },
     "metadata": {},
     "output_type": "display_data"
    }
   ],
   "source": [
    "freqs, psd = signal.welch(dataA, nperseg=gathertime)\n",
    "\n",
    "# 소수 넷째 자리까지 맞쳐줌\n",
    "freqs = np.round(freqs, 4)\n",
    "psd = np.round(psd, 4)\n",
    "\n",
    "max_indexs = []\n",
    "max_psd = max(psd)\n",
    "for i in range(len(freqs)):\n",
    "    if psd[i] == max_psd:\n",
    "        max_indexs.append(i)\n",
    "\n",
    "print(freqs[max_indexs])\n",
    "\n",
    "plt.figure(figsize=(5, 4))\n",
    "plt.plot(freqs, psd, color=\"black\")\n",
    "plt.vlines(freqs[max_indexs], ymin=0, ymax=psd[max_indexs], color=\"black\", linestyles='--')\n",
    "plt.annotate('0.1429', xy=(0.05, 1))\n",
    "plt.annotate('0.2857', xy=(0.2, 1))\n",
    "plt.annotate('0.4286', xy=(0.35, 1))\n",
    "plt.title('PSD: power spectral density')\n",
    "plt.xlabel('Frequency')\n",
    "plt.ylabel('Power')\n",
    "plt.tight_layout()"
   ]
  },
  {
   "cell_type": "code",
   "execution_count": 70,
   "id": "c61d85f4-47a6-44f7-b6c6-1527d655c177",
   "metadata": {},
   "outputs": [
    {
     "data": {
      "text/plain": [
       "6.997900629811057"
      ]
     },
     "execution_count": 70,
     "metadata": {},
     "output_type": "execute_result"
    }
   ],
   "source": [
    "1/0.1429"
   ]
  },
  {
   "cell_type": "markdown",
   "id": "7f9adc50-4961-4103-beff-6db537b9cb93",
   "metadata": {},
   "source": [
    "### 즉 7일을 Period로 가지는 것을 확인함."
   ]
  },
  {
   "cell_type": "markdown",
   "id": "c42107d1-f62a-423c-8fcf-d4caaa4a739a",
   "metadata": {},
   "source": [
    "## Signal Shift Detection -> Convolution Theorem"
   ]
  },
  {
   "cell_type": "code",
   "execution_count": 78,
   "id": "3a5c3505-5d58-4783-922f-a4fae696f6c5",
   "metadata": {},
   "outputs": [],
   "source": [
    "data_b_oneweek = [0, 0, 0, 1, 0, 0, 0]\n",
    "dataB = data_b_oneweek*8"
   ]
  },
  {
   "cell_type": "code",
   "execution_count": 87,
   "id": "719232c4-bf54-4d01-93c8-61b3bd5f8504",
   "metadata": {},
   "outputs": [],
   "source": [
    "dataA_coefficient = np.fft.fft(dataA)\n",
    "dataB_coefficient = np.fft.fft(dataB)"
   ]
  },
  {
   "cell_type": "code",
   "execution_count": 91,
   "id": "1f93d469-e09c-4dcc-b25e-0b7467e100cb",
   "metadata": {},
   "outputs": [
    {
     "name": "stdout",
     "output_type": "stream",
     "text": [
      "56\n",
      "56\n"
     ]
    }
   ],
   "source": [
    "print(len(dataA_coefficient))\n",
    "print(len(dataB_coefficient))"
   ]
  },
  {
   "cell_type": "code",
   "execution_count": 94,
   "id": "9b968898-b9ce-4f51-95d8-41a37a694e98",
   "metadata": {},
   "outputs": [
    {
     "name": "stdout",
     "output_type": "stream",
     "text": [
      "(56,)\n"
     ]
    }
   ],
   "source": [
    "convolution = np.convolve(dataA_coefficient, dataB_coefficient, \"same\")\n",
    "print(convolution.shape)"
   ]
  },
  {
   "cell_type": "code",
   "execution_count": 96,
   "id": "420c5888-5e90-46ea-9692-6979070dfa46",
   "metadata": {},
   "outputs": [
    {
     "data": {
      "image/png": "[encoded data removed]",
      "text/plain": [
       "<Figure size 500x400 with 1 Axes>"
      ]
     },
     "metadata": {},
     "output_type": "display_data"
    }
   ],
   "source": [
    "plt.figure(figsize=(5, 4))\n",
    "plt.plot(np.arange(0, gathertime), abs(convolution), color=\"black\")\n",
    "# plt.vlines(freqs[max_indexs], ymin=0, ymax=psd[max_indexs], color=\"black\", linestyles='--')\n",
    "# plt.annotate('0.1429', xy=(0.05, 1))\n",
    "# plt.annotate('0.2857', xy=(0.2, 1))\n",
    "# plt.annotate('0.4286', xy=(0.35, 1))\n",
    "plt.title('Convolution')\n",
    "plt.xlabel('Time')\n",
    "plt.ylabel('Complex Conjugation')\n",
    "plt.tight_layout()"
   ]
  }
 ],
 "metadata": {
  "kernelspec": {
   "display_name": "Python 3 (ipykernel)",
   "language": "python",
   "name": "python3"
  },
  "language_info": {
   "codemirror_mode": {
    "name": "ipython",
    "version": 3
   },
   "file_extension": ".py",
   "mimetype": "text/x-python",
   "name": "python",
   "nbconvert_exporter": "python",
   "pygments_lexer": "ipython3",
   "version": "3.9.13"
  }
 },
 "nbformat": 4,
 "nbformat_minor": 5
}
